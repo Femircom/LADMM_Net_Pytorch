{
 "cells": [
  {
   "cell_type": "markdown",
   "metadata": {
    "id": "ElCnhk-vblvE"
   },
   "source": [
    "# Import Libraries"
   ]
  },
  {
   "cell_type": "code",
   "execution_count": null,
   "metadata": {
    "colab": {
     "base_uri": "https://localhost:8080/"
    },
    "executionInfo": {
     "elapsed": 53218,
     "status": "ok",
     "timestamp": 1612948577572,
     "user": {
      "displayName": "Juan Ramírez",
      "photoUrl": "",
      "userId": "10349054824212831472"
     },
     "user_tz": -60
    },
    "id": "NWm0I74Sb2v2",
    "outputId": "10db2fb7-0cdd-4bb7-a82f-359729ac6cf1"
   },
   "outputs": [],
   "source": [
    "\n",
    "from google.colab import drive\n",
    "#drive.mount('/content/gdrive/')\n",
    "drive.mount(\"/content/gdrive/\", force_remount=True)"
   ]
  },
  {
   "cell_type": "code",
   "execution_count": null,
   "metadata": {
    "colab": {
     "base_uri": "https://localhost:8080/"
    },
    "executionInfo": {
     "elapsed": 57712,
     "status": "ok",
     "timestamp": 1612948582076,
     "user": {
      "displayName": "Juan Ramírez",
      "photoUrl": "",
      "userId": "10349054824212831472"
     },
     "user_tz": -60
    },
    "id": "3rIdGUqBcIiL",
    "outputId": "53d56ebc-003e-46b0-826f-92eb8c823ee3"
   },
   "outputs": [],
   "source": [
    "%cd \"/content/gdrive/My Drive/Colab Notebooks/LADMM_Net_Pytorch\"\n",
    "%ls\n",
    "%pip install sewar"
   ]
  },
  {
   "cell_type": "code",
   "execution_count": null,
   "metadata": {
    "executionInfo": {
     "elapsed": 63217,
     "status": "ok",
     "timestamp": 1612948587584,
     "user": {
      "displayName": "Juan Ramírez",
      "photoUrl": "",
      "userId": "10349054824212831472"
     },
     "user_tz": -60
    },
    "id": "jQJC-guycti4"
   },
   "outputs": [],
   "source": [
    "import os\n",
    "import numpy as np\n",
    "import numpy.matlib\n",
    "import matplotlib.pyplot as plt\n",
    "import scipy.io as sio\n",
    "from time import time\n",
    "\n",
    "# our libraries\n",
    "from utils import featurefusionpkg as ff\n",
    "\n",
    "from sewar.full_ref import sam\n",
    "from skimage.metrics import structural_similarity as ssim\n",
    "\n",
    "\n",
    "from models.LadmmNet import LADMMcsifusionfastNet\n",
    "# Pytorch libraries\n",
    "import torch\n",
    "import torch.nn as nn\n",
    "import torch.nn.functional as F\n",
    "\n",
    "gpu_list = '0'\n",
    "os.environ[\"CUDA_DEVICE_ORDER\"] = \"PCI_BUS_ID\"\n",
    "os.environ[\"CUDA_VISIBLE_DEVICES\"] = gpu_list\n",
    "device = torch.device(\"cuda:0\" if torch.cuda.is_available() else \"cpu\")"
   ]
  },
  {
   "cell_type": "markdown",
   "metadata": {
    "id": "WzEEMXjjdBWt"
   },
   "source": [
    "# Measurement Matrices"
   ]
  },
  {
   "cell_type": "code",
   "execution_count": null,
   "metadata": {
    "executionInfo": {
     "elapsed": 78712,
     "status": "ok",
     "timestamp": 1612948603082,
     "user": {
      "displayName": "Juan Ramírez",
      "photoUrl": "",
      "userId": "10349054824212831472"
     },
     "user_tz": -60
    },
    "id": "Guyuie3ndI2Q"
   },
   "outputs": [],
   "source": [
    "# Loading hyperspectral coded aperture\n",
    "fname1       = 'cca_hs.mat'\n",
    "data_path    = os.path.join(os.getcwd(),'data/Harvard/csi_measurements/50')\n",
    "#data_path    = os.path.join(os.getcwd(),'data/Harvard/csi_measurements/375')\n",
    "cca_hs       = sio.loadmat(os.path.join(data_path, fname1))['cca_hs']\n",
    "shots_hs, M_hs, N_hs, L = cca_hs.shape\n",
    "ccahs_np     = np.zeros((shots_hs*M_hs*N_hs*L))\n",
    "for i in range(0,shots_hs):\n",
    "  ccahs_np[i*M_hs*N_hs*L:(i+1)*M_hs*N_hs*L] = cca_hs[i,:,:,:].reshape((M_hs*N_hs*L),order='F')\n",
    "ccahs        = torch.from_numpy(np.double(ccahs_np)).type(torch.FloatTensor)\n",
    "del cca_hs, ccahs_np\n",
    "ccahs = ccahs.view(-1,L,M_hs,N_hs).to(device)\n",
    "\n",
    "# Loading multispectral coded aperture\n",
    "fname1       = 'cca_ms.mat'\n",
    "cca_ms       = sio.loadmat(os.path.join(data_path, fname1))['cca_ms']\n",
    "shots_ms, M, N, L_ms = cca_ms.shape\n",
    "ccams_np     = np.zeros((shots_ms*M*N*L_ms))\n",
    "for i in range(0,shots_ms):\n",
    "  ccams_np[i*M*N*L_ms:(i+1)*M*N*L_ms] = cca_ms[i,:,:,:].reshape((M*N*L_ms),order='F')\n",
    "ccams        = torch.from_numpy(np.double(ccams_np)).type(torch.FloatTensor)\n",
    "del cca_ms, ccams_np\n",
    "ccams = ccams.view(-1,L_ms,M,N).to(device)\n",
    "\n",
    "p = 4\n",
    "q = 2"
   ]
  },
  {
   "cell_type": "markdown",
   "metadata": {
    "id": "E2YSIwRxdvW6"
   },
   "source": [
    "# LADMM Parameters"
   ]
  },
  {
   "cell_type": "code",
   "execution_count": null,
   "metadata": {
    "colab": {
     "base_uri": "https://localhost:8080/"
    },
    "executionInfo": {
     "elapsed": 147813,
     "status": "ok",
     "timestamp": 1612948672188,
     "user": {
      "displayName": "Juan Ramírez",
      "photoUrl": "",
      "userId": "10349054824212831472"
     },
     "user_tz": -60
    },
    "id": "joy8Tic9d4_C",
    "outputId": "534463ce-f853-4b6e-cca6-f19c597669a1"
   },
   "outputs": [],
   "source": [
    "layer_num               = 10\n",
    "learning_rate           = 0.0005\n",
    "epochs                  = 256\n",
    "epochs                  = epochs + 1\n",
    "num_training_samples    = 48\n",
    "num_samples             = 48\n",
    "batch_size              = 1\n",
    "compression_ratio       = 50\n",
    "\n",
    "model     = LADMMcsifusionfastNet(layer_num)\n",
    "model     = nn.DataParallel(model)\n",
    "model     = model.to(device)\n",
    "optimizer = torch.optim.Adam(model.parameters(), lr=learning_rate)\n",
    "\n",
    "data_path       = os.path.join(os.getcwd(),'data/Harvard/test_images')\n",
    "model_dir       = \"./train_parameters/Harvard/LADMM_Net_layer_%d_ratio_%d\" % (layer_num, compression_ratio)\n",
    "model.load_state_dict(torch.load('./%s/net_params_%d.pkl' % (model_dir, epochs-1),map_location='cpu'))\n",
    "model= model.to(device)\n",
    "\n",
    "def SpectralDegradationFilter(window_size, L, q):\n",
    "  kernel = torch.zeros((L//q,L,window_size,window_size))\n",
    "  for i in range(0,L//q):\n",
    "    kernel[i,i*q:(i+1)*(q),window_size//2,window_size//2] = 1/q\n",
    "  return kernel\n",
    "\n",
    "def ProjectionFilter(window_size, L):\n",
    "  kernel = torch.zeros((1,L,window_size,window_size))\n",
    "  kernel[0,1:L,window_size//2,window_size//2] = 1\n",
    "  return kernel\n",
    "\n",
    "def SpectralUpsamplingFilter(window_size, q, L):\n",
    "  kernel = torch.zeros((L,L//q,window_size,window_size))\n",
    "  for i in range(0,L//q):\n",
    "    for j in range(0,q):\n",
    "      kernel[i*q+j,i,window_size//2,window_size//2] = 1 \n",
    "  return kernel\n",
    "\n",
    "fnp = np.zeros((M*N*L*batch_size))\n",
    "\n",
    "psnr_vector = np.zeros(24)\n",
    "ssim_vector = np.zeros(24)\n",
    "samp_vector = np.zeros(24)\n",
    "cmpt_vector = np.zeros(24)\n",
    "\n",
    "kk = 0\n",
    "for ii in range(49,73):\n",
    "  print('Iteration: %d'%(kk+1))\n",
    "  fpointer        = ii\n",
    "  fsamples_ms     = 'hri_%03d.mat' % (fpointer)\n",
    "  hri             = sio.loadmat(os.path.join(data_path, fsamples_ms))['foo']\n",
    "  fnp[0:M*N*L] = hri.reshape((M*N*L),order='F')\n",
    "\n",
    "  f = torch.from_numpy(np.double(fnp)).type(torch.FloatTensor)*(1/255.0)\n",
    "  f = f.view(-1,L,M,N).to(device)\n",
    "\n",
    "  # Acquisition process of the HS compressive measurements\n",
    "  hs_deg        = nn.AvgPool2d(p)\n",
    "  shot_data_hs  = torch.mean(torch.mul(ccahs,hs_deg(f).repeat(shots_hs, 1, 1, 1)),(1))\n",
    "  shot_data_hs  = shot_data_hs * (1/torch.max(shot_data_hs)) \n",
    "\n",
    "  # HS measurement matrix transpose\n",
    "  HTyhs         = F.interpolate(torch.mean(torch.mul(shot_data_hs.view(shots_hs,1,M_hs,N_hs).repeat(1,L,1,1), ccahs),(0)).view(1,L,M_hs,N_hs),scale_factor=(p,p))\n",
    "\n",
    "  # Acquisition process of the MS compressive measurements\n",
    "  kernel = SpectralDegradationFilter(3,L,q).to(device)\n",
    "  shot_data_ms  = torch.mean(torch.mul(ccams,F.conv2d(f, kernel, padding=1).repeat(shots_ms, 1, 1, 1)),(1))\n",
    "  shot_data_ms  = shot_data_ms * (1/torch.max(shot_data_ms))\n",
    "\n",
    "  # MS measurement matrix transpose\n",
    "  upsamp = SpectralUpsamplingFilter(3,q,L_ms*q).to(device)\n",
    "  HTyms  = F.conv2d(torch.mean(torch.mul(shot_data_ms.view(shots_ms,1,M,N).repeat(1,L_ms,1,1), ccams),(0)).view(1,L_ms,M,N),upsamp, padding=1)\n",
    "\n",
    "  start = time()\n",
    "  [x_output, loss_layers_sym] = model(ccahs, ccams, HTyhs, HTyms, M, N, L, p, q, shots_hs, shots_ms)\n",
    "  end   = time()\n",
    "  del shot_data_hs, shot_data_ms, HTyhs, HTyms, loss_layers_sym\n",
    "\n",
    "  cmpt_vector[kk] = end - start\n",
    "\n",
    "  hri = hri / np.max(hri)\n",
    "\n",
    "  Io        = np.zeros((M,N,L))\n",
    "  psnr_rec  = np.zeros(L)\n",
    "  ssim_rec  = np.zeros(L)\n",
    "  for l in range(0,L):\n",
    "    It1         = x_output.view(-1,32,512,512)[0,l,:,:]\n",
    "    It1         = It1.cpu().detach().numpy()\n",
    "    Io[:,:,l]   = np.transpose(It1)\n",
    "    It2         = np.transpose(hri[:,:,l])\n",
    "    res         = np.mean(np.power((It2-It1),2))\n",
    "    psnr_rec[l]   = 10*np.log10(1/res)\n",
    "    ssim_rec[l]   = ssim(It2, It1, data_range=1)\n",
    "\n",
    "  samp_vector[kk] = sam(Io,hri)\n",
    "  psnr_vector[kk] = np.mean(psnr_rec)\n",
    "  ssim_vector[kk] = np.mean(ssim_rec)\n",
    "  del x_output, Io, hri, It1, It2\n",
    "  kk = kk + 1\n",
    "\n",
    "print('----------')\n",
    "print('PSNR: %.4f + %.4f dB'%(np.mean(psnr_vector),np.std(psnr_vector)))\n",
    "print('SSIM: %.4f + %.4f'%(np.mean(ssim_vector),np.std(ssim_vector)))\n",
    "print('SAM: %.4f + %.4f'%(np.mean(samp_vector),np.std(samp_vector))) \n",
    "print('Time: %.4f + %.4f s'%(np.mean(cmpt_vector),np.std(cmpt_vector)))\n",
    "print('----------')"
   ]
  }
 ],
 "metadata": {
  "accelerator": "GPU",
  "colab": {
   "authorship_tag": "ABX9TyMJNFG4Vb0RZTqDj/QiMBU1",
   "name": "SimulationTestHarvard.ipynb",
   "provenance": [
    {
     "file_id": "1JqYVAesjYBdqdc4R8-OcNqX2CClhHOpg",
     "timestamp": 1612013747606
    }
   ]
  },
  "kernelspec": {
   "display_name": "Python 3",
   "language": "python",
   "name": "python3"
  },
  "language_info": {
   "codemirror_mode": {
    "name": "ipython",
    "version": 3
   },
   "file_extension": ".py",
   "mimetype": "text/x-python",
   "name": "python",
   "nbconvert_exporter": "python",
   "pygments_lexer": "ipython3",
   "version": "3.7.6"
  }
 },
 "nbformat": 4,
 "nbformat_minor": 1
}
