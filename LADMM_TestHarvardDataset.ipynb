{
 "cells": [
  {
   "cell_type": "markdown",
   "metadata": {
    "id": "ElCnhk-vblvE"
   },
   "source": [
    "# Import Libraries"
   ]
  },
  {
   "cell_type": "code",
   "execution_count": null,
   "metadata": {
    "colab": {
     "base_uri": "https://localhost:8080/"
    },
    "executionInfo": {
     "elapsed": 1900,
     "status": "ok",
     "timestamp": 1612012416120,
     "user": {
      "displayName": "Juan Ramírez",
      "photoUrl": "",
      "userId": "10349054824212831472"
     },
     "user_tz": -60
    },
    "id": "NWm0I74Sb2v2",
    "outputId": "2c7b90f2-2d3a-4ff6-f02a-caa16d5248f9"
   },
   "outputs": [],
   "source": [
    "from google.colab import drive\n",
    "#drive.mount('/content/gdrive/')\n",
    "drive.mount(\"/content/gdrive/\", force_remount=True)"
   ]
  },
  {
   "cell_type": "code",
   "execution_count": null,
   "metadata": {
    "colab": {
     "base_uri": "https://localhost:8080/"
    },
    "executionInfo": {
     "elapsed": 1897,
     "status": "ok",
     "timestamp": 1612012416122,
     "user": {
      "displayName": "Juan Ramírez",
      "photoUrl": "",
      "userId": "10349054824212831472"
     },
     "user_tz": -60
    },
    "id": "3rIdGUqBcIiL",
    "outputId": "53a87876-7107-464a-8e91-6b4f51102cc8"
   },
   "outputs": [],
   "source": [
    "%cd \"/content/gdrive/My Drive/Colab Notebooks/LADMM_Net_Pytorch\"\n",
    "%ls"
   ]
  },
  {
   "cell_type": "code",
   "execution_count": null,
   "metadata": {
    "executionInfo": {
     "elapsed": 2921,
     "status": "ok",
     "timestamp": 1612012417150,
     "user": {
      "displayName": "Juan Ramírez",
      "photoUrl": "",
      "userId": "10349054824212831472"
     },
     "user_tz": -60
    },
    "id": "jQJC-guycti4"
   },
   "outputs": [],
   "source": [
    "import os\n",
    "import numpy as np\n",
    "import numpy.matlib\n",
    "import matplotlib.pyplot as plt\n",
    "import scipy.io as sio\n",
    "\n",
    "# our libraries\n",
    "from utils import featurefusionpkg as ff\n",
    "\n",
    "from skimage.metrics import structural_similarity as ssim\n",
    "\n",
    "from models.LadmmNet import LADMMcsifusionfastNet\n",
    "# Pytorch libraries\n",
    "import torch\n",
    "import torch.nn as nn\n",
    "import torch.nn.functional as F\n",
    "\n",
    "gpu_list = '0'\n",
    "os.environ[\"CUDA_DEVICE_ORDER\"] = \"PCI_BUS_ID\"\n",
    "os.environ[\"CUDA_VISIBLE_DEVICES\"] = gpu_list\n",
    "device = torch.device(\"cuda:0\" if torch.cuda.is_available() else \"cpu\")"
   ]
  },
  {
   "cell_type": "markdown",
   "metadata": {
    "id": "WzEEMXjjdBWt"
   },
   "source": [
    "# Measurement Matrices"
   ]
  },
  {
   "cell_type": "code",
   "execution_count": null,
   "metadata": {
    "executionInfo": {
     "elapsed": 7093,
     "status": "ok",
     "timestamp": 1612012421324,
     "user": {
      "displayName": "Juan Ramírez",
      "photoUrl": "",
      "userId": "10349054824212831472"
     },
     "user_tz": -60
    },
    "id": "Guyuie3ndI2Q"
   },
   "outputs": [],
   "source": [
    "# Loading hyperspectral coded aperture\n",
    "fname1       = 'cca_hs.mat'\n",
    "data_path    = os.path.join(os.getcwd(),'data/Harvard/csi_measurements/25')\n",
    "#data_path    = os.path.join(os.getcwd(),'data/Harvard/csi_measurements/375')\n",
    "cca_hs       = sio.loadmat(os.path.join(data_path, fname1))['cca_hs']\n",
    "shots_hs, M_hs, N_hs, L = cca_hs.shape\n",
    "ccahs_np     = np.zeros((shots_hs*M_hs*N_hs*L))\n",
    "for i in range(0,shots_hs):\n",
    "  ccahs_np[i*M_hs*N_hs*L:(i+1)*M_hs*N_hs*L] = cca_hs[i,:,:,:].reshape((M_hs*N_hs*L),order='F')\n",
    "ccahs        = torch.from_numpy(np.double(ccahs_np)).type(torch.FloatTensor)\n",
    "del cca_hs, ccahs_np\n",
    "ccahs = ccahs.view(-1,L,M_hs,N_hs).to(device)\n",
    "\n",
    "# Loading multispectral coded aperture\n",
    "fname1       = 'cca_ms.mat'\n",
    "cca_ms       = sio.loadmat(os.path.join(data_path, fname1))['cca_ms']\n",
    "shots_ms, M, N, L_ms = cca_ms.shape\n",
    "ccams_np     = np.zeros((shots_ms*M*N*L_ms))\n",
    "for i in range(0,shots_ms):\n",
    "  ccams_np[i*M*N*L_ms:(i+1)*M*N*L_ms] = cca_ms[i,:,:,:].reshape((M*N*L_ms),order='F')\n",
    "ccams        = torch.from_numpy(np.double(ccams_np)).type(torch.FloatTensor)\n",
    "del cca_ms, ccams_np\n",
    "ccams = ccams.view(-1,L_ms,M,N).to(device)\n",
    "\n",
    "p = 4\n",
    "q = 2"
   ]
  },
  {
   "cell_type": "markdown",
   "metadata": {
    "id": "E2YSIwRxdvW6"
   },
   "source": [
    "# LADMM Parameters"
   ]
  },
  {
   "cell_type": "code",
   "execution_count": null,
   "metadata": {
    "colab": {
     "base_uri": "https://localhost:8080/",
     "height": 282
    },
    "executionInfo": {
     "elapsed": 13237,
     "status": "ok",
     "timestamp": 1612012427472,
     "user": {
      "displayName": "Juan Ramírez",
      "photoUrl": "",
      "userId": "10349054824212831472"
     },
     "user_tz": -60
    },
    "id": "joy8Tic9d4_C",
    "outputId": "ff53db2b-4bc1-4f56-c5ff-d4423f8eca91"
   },
   "outputs": [],
   "source": [
    "layer_num               = 10\n",
    "learning_rate           = 0.0005\n",
    "epochs                  = 256\n",
    "epochs                  = epochs + 1\n",
    "num_training_samples    = 48\n",
    "num_samples             = 48\n",
    "batch_size              = 1\n",
    "compression_ratio       = 25\n",
    "\n",
    "model     = LADMMcsifusionfastNet(layer_num)\n",
    "model     = nn.DataParallel(model)\n",
    "model     = model.to(device)\n",
    "optimizer = torch.optim.Adam(model.parameters(), lr=learning_rate)\n",
    "\n",
    "data_path       = os.path.join(os.getcwd(),'data/Harvard/test_images_to_show')\n",
    "model_dir       = \"./train_parameters/Harvard/LADMM_Net_layer_%d_ratio_%d\" % (layer_num, compression_ratio)\n",
    "model.load_state_dict(torch.load('./%s/net_params_%d.pkl' % (model_dir, epochs-1),map_location='cpu'))\n",
    "model= model.to(device)\n",
    "\n",
    "def SpectralDegradationFilter(window_size, L, q):\n",
    "  kernel = torch.zeros((L//q,L,window_size,window_size))\n",
    "  for i in range(0,L//q):\n",
    "    kernel[i,i*q:(i+1)*(q),window_size//2,window_size//2] = 1/q\n",
    "  return kernel\n",
    "\n",
    "def ProjectionFilter(window_size, L):\n",
    "  kernel = torch.zeros((1,L,window_size,window_size))\n",
    "  kernel[0,1:L,window_size//2,window_size//2] = 1\n",
    "  return kernel\n",
    "\n",
    "def SpectralUpsamplingFilter(window_size, q, L):\n",
    "  kernel = torch.zeros((L,L//q,window_size,window_size))\n",
    "  for i in range(0,L//q):\n",
    "    for j in range(0,q):\n",
    "      kernel[i*q+j,i,window_size//2,window_size//2] = 1 \n",
    "  return kernel\n",
    "\n",
    "fnp = np.zeros((M*N*L*batch_size))\n",
    "# Houses\n",
    "new_indices = 60 \n",
    "\n",
    "# Cork wall\n",
    "#new_indices = 111\n",
    "\n",
    "# Door\n",
    "#new_indices = 135\n",
    "fpointer        = new_indices + 1\n",
    "fsamples_ms     = 'hri_%03d.mat' % (fpointer)\n",
    "hri             = sio.loadmat(os.path.join(data_path, fsamples_ms))['foo']\n",
    "fnp[0:M*N*L] = hri.reshape((M*N*L),order='F')\n",
    "\n",
    "f = torch.from_numpy(np.double(fnp)).type(torch.FloatTensor)*(1/255.0)\n",
    "f = f.view(-1,L,M,N).to(device)\n",
    "\n",
    "# Acquisition process of the HS compressive measurements\n",
    "hs_deg        = nn.AvgPool2d(p)\n",
    "shot_data_hs  = torch.mean(torch.mul(ccahs,hs_deg(f).repeat(shots_hs, 1, 1, 1)),(1))\n",
    "shot_data_hs  = shot_data_hs * (1/torch.max(shot_data_hs)) \n",
    "\n",
    "# HS measurement matrix transpose\n",
    "HTyhs         = F.interpolate(torch.mean(torch.mul(shot_data_hs.view(shots_hs,1,M_hs,N_hs).repeat(1,L,1,1), ccahs),(0)).view(1,L,M_hs,N_hs),scale_factor=(p,p))\n",
    "\n",
    "# Acquisition process of the MS compressive measurements\n",
    "kernel = SpectralDegradationFilter(3,L,q).to(device)\n",
    "shot_data_ms  = torch.mean(torch.mul(ccams,F.conv2d(f, kernel, padding=1).repeat(shots_ms, 1, 1, 1)),(1))\n",
    "shot_data_ms  = shot_data_ms * (1/torch.max(shot_data_ms))\n",
    "\n",
    "# MS measurement matrix transpose\n",
    "upsamp = SpectralUpsamplingFilter(3,q,L_ms*q).to(device)\n",
    "HTyms  = F.conv2d(torch.mean(torch.mul(shot_data_ms.view(shots_ms,1,M,N).repeat(1,L_ms,1,1), ccams),(0)).view(1,L_ms,M,N),upsamp, padding=1)\n",
    "\n",
    "[x_output, loss_layers_sym] = model(ccahs, ccams, HTyhs, HTyms, M, N, L, p, q, shots_hs, shots_ms)\n",
    "\n",
    "hri = hri / np.max(hri)\n",
    "\n",
    "Io        = np.zeros((M,N,L))\n",
    "sd_hs     = np.zeros((M//p,N//p,shots_hs))\n",
    "sd_ms     = np.zeros((M,N,shots_ms))\n",
    "\n",
    "psnr_rec  = np.zeros(L)\n",
    "ssim_rec  = np.zeros(L)\n",
    "for l in range(0,L):\n",
    "    It1         = x_output.view(-1,32,512,512)[0,l,:,:]\n",
    "    It1         = It1.cpu().detach().numpy()\n",
    "    Io[:,:,l]   = np.transpose(It1)\n",
    "    It2         = np.transpose(hri[:,:,l])\n",
    "    res         = np.mean(np.power((It2-It1),2))\n",
    "    psnr_rec[l]   = 10*np.log10(1/res)\n",
    "    ssim_rec[l]   = ssim(It2, It1, data_range=1)\n",
    "\n",
    "# Measurements\n",
    "for l in range(0,shots_hs):\n",
    "    It3         = shot_data_hs.view(-1,shots_hs,M//p,N//p)[0,l,:,:]\n",
    "    It3         = It3.cpu().detach().numpy()\n",
    "    sd_hs[:,:,l]= np.transpose(It3)\n",
    "\n",
    "for l in range(0,shots_ms):\n",
    "    It4         = shot_data_ms.view(-1,shots_ms,M,N)[0,l,:,:]\n",
    "    It4         = It4.cpu().detach().numpy()\n",
    "    sd_ms[:,:,l]= np.transpose(It4)\n",
    "\n",
    "psnr = np.mean(psnr_rec)\n",
    "ssim = np.mean(ssim_rec)\n",
    "#print(psnr, ssim)\n",
    "\n",
    "# RGB composite of the original image\n",
    "I0 = np.zeros((M,N,3))\n",
    "Ix = np.zeros((M,N,L))\n",
    "calib32 = sio.loadmat('calib32.mat')['calib32']\n",
    "xyz     = sio.loadmat('xyz.mat')['xyz']\n",
    "for l in range(0,L):\n",
    "    scale = 1.0 / calib32[0,l] \n",
    "    Ix[:,:,l] = np.multiply(scale, hri[:,:,l])\n",
    "    maxIx = np.max(Ix[:,:,l])\n",
    "    Ix[:,:,l] = Ix[:,:,l] / maxIx\n",
    "    \n",
    "for k in range(0,3):\n",
    "    Ixx = np.zeros((M,N))\n",
    "    for l in range(0,L):\n",
    "        scale = xyz[l,k] \n",
    "        Ixx = Ixx + np.multiply(scale, Ix[:,:,l])\n",
    "    maxIxx = np.max(Ixx)\n",
    "    I0[:,:,k] = Ixx / maxIxx\n",
    "\n",
    "# RGB composite of the recovered image\n",
    "I1 = np.zeros((M,N,3))\n",
    "Ix = np.zeros((M,N,L))\n",
    "for l in range(0,L):\n",
    "    scale = 1.0 / calib32[0,l] \n",
    "    Ix[:,:,l] = np.multiply(scale, Io[:,:,l])\n",
    "    maxIx = np.max(Ix[:,:,l])\n",
    "    Ix[:,:,l] = Ix[:,:,l] / maxIx\n",
    "    \n",
    "for k in range(0,3):\n",
    "    Ixx = np.zeros((M,N))\n",
    "    for l in range(0,L):\n",
    "        scale = xyz[l,k] \n",
    "        Ixx = Ixx + np.multiply(scale, Ix[:,:,l])\n",
    "    maxIxx = np.max(Ixx)\n",
    "    I1[:,:,k] = Ixx / maxIxx\n",
    "\n",
    "plt.figure(figsize=(18,8))\n",
    "\n",
    "plt.subplot(1,4,1)\n",
    "plt.xticks([])\n",
    "plt.yticks([])\n",
    "plt.grid(False)\n",
    "plt.imshow(I0)\n",
    "plt.xlabel('Original image')\n",
    "\n",
    "plt.subplot(1,4,2)\n",
    "plt.xticks([])\n",
    "plt.yticks([])\n",
    "plt.grid(False)\n",
    "plt.imshow(sd_hs[:,:,0],cmap='gray')\n",
    "plt.xlabel('HS shot')\n",
    "\n",
    "plt.subplot(1,4,3)\n",
    "plt.xticks([])\n",
    "plt.yticks([])\n",
    "plt.grid(False)\n",
    "plt.imshow(sd_ms[:,:,0],cmap='gray')\n",
    "plt.xlabel('MS shot')\n",
    "\n",
    "plt.subplot(1,4,4)\n",
    "plt.xticks([])\n",
    "plt.yticks([])\n",
    "plt.grid(False)\n",
    "plt.imshow(I1)\n",
    "plt.xlabel('Recovered image')\n",
    "plt.text(240, 495, 'PSNR: %.2f dB'%(psnr), fontsize=14,\n",
    "        bbox={'facecolor': 'white', 'alpha': 0.95, 'pad': 3})\n",
    "#plt.savefig('recover1_im3.eps', format='eps', bbox_inches = 'tight', pad_inches = 0)"
   ]
  }
 ],
 "metadata": {
  "accelerator": "GPU",
  "colab": {
   "authorship_tag": "ABX9TyNjU6dZnkzAEj1HQjgTaozy",
   "name": "FusionTestHarvard.ipynb",
   "provenance": []
  },
  "kernelspec": {
   "display_name": "Python 3",
   "language": "python",
   "name": "python3"
  },
  "language_info": {
   "codemirror_mode": {
    "name": "ipython",
    "version": 3
   },
   "file_extension": ".py",
   "mimetype": "text/x-python",
   "name": "python",
   "nbconvert_exporter": "python",
   "pygments_lexer": "ipython3",
   "version": "3.7.6"
  }
 },
 "nbformat": 4,
 "nbformat_minor": 1
}
