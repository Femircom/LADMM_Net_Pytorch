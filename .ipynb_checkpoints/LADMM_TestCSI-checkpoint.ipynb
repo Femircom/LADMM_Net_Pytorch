{
 "cells": [
  {
   "cell_type": "markdown",
   "metadata": {
    "id": "CMzd-RxcPG7z"
   },
   "source": [
    "# Import libraries"
   ]
  },
  {
   "cell_type": "code",
   "execution_count": 1,
   "metadata": {
    "colab": {
     "base_uri": "https://localhost:8080/"
    },
    "executionInfo": {
     "elapsed": 21283,
     "status": "ok",
     "timestamp": 1614104815871,
     "user": {
      "displayName": "Juan Ramírez",
      "photoUrl": "",
      "userId": "10349054824212831472"
     },
     "user_tz": -60
    },
    "id": "rsGXqAz8PPcN",
    "outputId": "1b125c5b-60e2-4902-b4cc-d36994aa4125"
   },
   "outputs": [
    {
     "name": "stdout",
     "output_type": "stream",
     "text": [
      "Mounted at /content/gdrive/\n"
     ]
    }
   ],
   "source": [
    "from google.colab import drive\n",
    "#drive.mount('/content/gdrive/')\n",
    "drive.mount(\"/content/gdrive/\", force_remount=True)"
   ]
  },
  {
   "cell_type": "code",
   "execution_count": 2,
   "metadata": {
    "colab": {
     "base_uri": "https://localhost:8080/"
    },
    "executionInfo": {
     "elapsed": 22281,
     "status": "ok",
     "timestamp": 1614104816876,
     "user": {
      "displayName": "Juan Ramírez",
      "photoUrl": "",
      "userId": "10349054824212831472"
     },
     "user_tz": -60
    },
    "id": "0xuqE7P2Pp7t",
    "outputId": "6efedb26-7fc0-40f7-ebcb-a820ef8b64c2"
   },
   "outputs": [
    {
     "name": "stdout",
     "output_type": "stream",
     "text": [
      "/content/gdrive/My Drive/Colab Notebooks/LADMM_Net_Pytorch\n",
      "calib32.mat\n",
      "csi_psnr_vs_epochs_layer_16_ratio_25.mat\n",
      "\u001b[0m\u001b[01;34mdata\u001b[0m/\n",
      "FusionTestHarvard.ipynb\n",
      "ISTAFusionTestHarvard.ipynb\n",
      "ISTA_psnr_vs_epochs_layer_10_ratio_25.mat\n",
      "ISTA_psnr_vs_epochs_layer_10_ratio_375.mat\n",
      "ISTA_psnr_vs_epochs_layer_10_ratio_50.mat\n",
      "ISTASimulationTestHarvard.ipynb\n",
      "ISTATrainHarvardDataset.ipynb\n",
      "LADMM_SimulationTestCSI.ipynb\n",
      "LADMM_TestCSI.ipynb\n",
      "LADMM_TrainCSI.ipynb\n",
      "LADMM_TrainHarvardDataset.ipynb\n",
      "\u001b[01;34mmodels\u001b[0m/\n",
      "psnr_vs_epochs_layer_10_ratio_25.mat\n",
      "psnr_vs_epochs_layer_10_ratio_375.mat\n",
      "psnr_vs_epochs_layer_10_ratio_50.mat\n",
      "psnr_vs_epochs_layer_5_ratio_25.mat\n",
      "psnr_vs_epochs_layer_5_ratio_375.mat\n",
      "psnr_vs_epochs_layer_5_ratio_50.mat\n",
      "psnr_vs_epochs_layer_7_ratio_25.mat\n",
      "psnr_vs_epochs_layer_7_ratio_375.mat\n",
      "psnr_vs_epochs_layer_7_ratio_50.mat\n",
      "SimulationTestHarvard.ipynb\n",
      "TrainHarvardDataset.ipynb\n",
      "\u001b[01;34mtrain_parameters\u001b[0m/\n",
      "\u001b[01;34mutils\u001b[0m/\n",
      "xyz.mat\n"
     ]
    }
   ],
   "source": [
    "%cd \"/content/gdrive/My Drive/Colab Notebooks/LADMM_Net_Pytorch\"\n",
    "%ls"
   ]
  },
  {
   "cell_type": "code",
   "execution_count": 1,
   "metadata": {
    "executionInfo": {
     "elapsed": 26659,
     "status": "ok",
     "timestamp": 1614104821257,
     "user": {
      "displayName": "Juan Ramírez",
      "photoUrl": "",
      "userId": "10349054824212831472"
     },
     "user_tz": -60
    },
    "id": "vHzrw1PePx5V"
   },
   "outputs": [],
   "source": [
    "import os\n",
    "import numpy as np\n",
    "import numpy.matlib\n",
    "import matplotlib.pyplot as plt\n",
    "import scipy.io as sio\n",
    "\n",
    "from models.LadmmNet import LADMMcsimageNet\n",
    "import torch\n",
    "import torch.nn as nn\n",
    "\n",
    "gpu_list = '0'\n",
    "os.environ[\"CUDA_DEVICE_ORDER\"] = \"PCI_BUS_ID\"\n",
    "os.environ[\"CUDA_VISIBLE_DEVICES\"] = gpu_list\n",
    "device = torch.device(\"cuda:0\" if torch.cuda.is_available() else \"cpu\")"
   ]
  },
  {
   "cell_type": "markdown",
   "metadata": {
    "id": "ipwDM8CZuH9i"
   },
   "source": [
    "# Utility functions"
   ]
  },
  {
   "cell_type": "code",
   "execution_count": 2,
   "metadata": {
    "executionInfo": {
     "elapsed": 26663,
     "status": "ok",
     "timestamp": 1614104821263,
     "user": {
      "displayName": "Juan Ramírez",
      "photoUrl": "",
      "userId": "10349054824212831472"
     },
     "user_tz": -60
    },
    "id": "S-gREclZuW8v"
   },
   "outputs": [],
   "source": [
    "def imread_CS_py(Iorg):\n",
    "    block_size = 33\n",
    "    [row, col] = Iorg.shape\n",
    "    row_pad = block_size-np.mod(row,block_size)\n",
    "    col_pad = block_size-np.mod(col,block_size)\n",
    "    Ipad = np.concatenate((Iorg, np.zeros([row, col_pad])), axis=1)\n",
    "    Ipad = np.concatenate((Ipad, np.zeros([row_pad, col+col_pad])), axis=0)\n",
    "    [row_new, col_new] = Ipad.shape\n",
    "\n",
    "    return [Iorg, row, col, Ipad, row_new, col_new]\n",
    "\n",
    "def img2col_py(Ipad, block_size):\n",
    "    [row, col] = Ipad.shape\n",
    "    row_block = row/block_size\n",
    "    col_block = col/block_size\n",
    "    block_num = int(row_block*col_block)\n",
    "    img_col = np.zeros([block_size**2, block_num])\n",
    "    count = 0\n",
    "    for x in range(0, row-block_size+1, block_size):\n",
    "        for y in range(0, col-block_size+1, block_size):\n",
    "            img_col[:, count] = Ipad[x:x+block_size, y:y+block_size].reshape([-1])\n",
    "            count = count + 1\n",
    "    return img_col\n",
    "\n",
    "def col2im_CS_py(X_col, row, col, row_new, col_new):\n",
    "    block_size = 33\n",
    "    X0_rec = np.zeros([row_new, col_new])\n",
    "    count = 0\n",
    "    for x in range(0, row_new-block_size+1, block_size):\n",
    "        for y in range(0, col_new-block_size+1, block_size):\n",
    "            X0_rec[x:x+block_size, y:y+block_size] = X_col[:, count].reshape([block_size, block_size])\n",
    "            count = count + 1\n",
    "    X_rec = X0_rec[:row, :col]\n",
    "    return X_rec"
   ]
  },
  {
   "cell_type": "markdown",
   "metadata": {
    "id": "rRQCOuAhSFkJ"
   },
   "source": [
    "# Measurement matrices"
   ]
  },
  {
   "cell_type": "code",
   "execution_count": 3,
   "metadata": {
    "executionInfo": {
     "elapsed": 38687,
     "status": "ok",
     "timestamp": 1614104833288,
     "user": {
      "displayName": "Juan Ramírez",
      "photoUrl": "",
      "userId": "10349054824212831472"
     },
     "user_tz": -60
    },
    "id": "FJSePPPcSSjK"
   },
   "outputs": [],
   "source": [
    "fname1       = 'H.mat'\n",
    "data_path    = os.path.join(os.getcwd(),'data/GrayscaleImages/Clean_measurements_25')\n",
    "H            = sio.loadmat(os.path.join(data_path, fname1))['H']\n",
    "H            = torch.from_numpy(H).type(torch.FloatTensor)\n",
    "H            = H.to(device)"
   ]
  },
  {
   "cell_type": "markdown",
   "metadata": {
    "id": "QX09iovOblld"
   },
   "source": [
    "# LADMM parameters"
   ]
  },
  {
   "cell_type": "code",
   "execution_count": 4,
   "metadata": {
    "colab": {
     "base_uri": "https://localhost:8080/"
    },
    "executionInfo": {
     "elapsed": 39696,
     "status": "ok",
     "timestamp": 1614104834303,
     "user": {
      "displayName": "Juan Ramírez",
      "photoUrl": "",
      "userId": "10349054824212831472"
     },
     "user_tz": -60
    },
    "id": "ivEsq0T4b0_l",
    "outputId": "bf83b91b-e7cd-444e-c2bc-29e5782263a6"
   },
   "outputs": [
    {
     "ename": "RuntimeError",
     "evalue": "version_ <= kMaxSupportedFileFormatVersion INTERNAL ASSERT FAILED at /opt/conda/conda-bld/pytorch_1579022060824/work/caffe2/serialize/inline_container.cc:132, please report a bug to PyTorch. Attempted to read a PyTorch file with version 3, but the maximum supported version for reading is 2. Your PyTorch installation may be too old. (init at /opt/conda/conda-bld/pytorch_1579022060824/work/caffe2/serialize/inline_container.cc:132)\nframe #0: c10::Error::Error(c10::SourceLocation, std::string const&) + 0x47 (0x7ffac6d45627 in /home/juan/anaconda3/lib/python3.7/site-packages/torch/lib/libc10.so)\nframe #1: caffe2::serialize::PyTorchStreamReader::init() + 0x1f5b (0x7ffacb3649ab in /home/juan/anaconda3/lib/python3.7/site-packages/torch/lib/libtorch.so)\nframe #2: caffe2::serialize::PyTorchStreamReader::PyTorchStreamReader(std::string const&) + 0x64 (0x7ffacb365bc4 in /home/juan/anaconda3/lib/python3.7/site-packages/torch/lib/libtorch.so)\nframe #3: <unknown function> + 0x6d2146 (0x7ffaf8db0146 in /home/juan/anaconda3/lib/python3.7/site-packages/torch/lib/libtorch_python.so)\nframe #4: <unknown function> + 0x28ba06 (0x7ffaf8969a06 in /home/juan/anaconda3/lib/python3.7/site-packages/torch/lib/libtorch_python.so)\nframe #5: _PyMethodDef_RawFastCallDict + 0x265 (0x5595cb14da55 in /home/juan/anaconda3/bin/python)\nframe #6: _PyCFunction_FastCallDict + 0x21 (0x5595cb14dbd1 in /home/juan/anaconda3/bin/python)\nframe #7: _PyObject_Call_Prepend + 0x63 (0x5595cb14b943 in /home/juan/anaconda3/bin/python)\nframe #8: PyObject_Call + 0x6e (0x5595cb13eb9e in /home/juan/anaconda3/bin/python)\nframe #9: <unknown function> + 0xb6726 (0x5595cb0cb726 in /home/juan/anaconda3/bin/python)\nframe #10: _PyObject_FastCallKeywords + 0x128 (0x5595cb18ae28 in /home/juan/anaconda3/bin/python)\nframe #11: _PyEval_EvalFrameDefault + 0x52cf (0x5595cb1dae8f in /home/juan/anaconda3/bin/python)\nframe #12: _PyEval_EvalCodeWithName + 0x5da (0x5595cb12f9da in /home/juan/anaconda3/bin/python)\nframe #13: _PyFunction_FastCallDict + 0x1d5 (0x5595cb130805 in /home/juan/anaconda3/bin/python)\nframe #14: _PyObject_Call_Prepend + 0x63 (0x5595cb14b943 in /home/juan/anaconda3/bin/python)\nframe #15: <unknown function> + 0x17506a (0x5595cb18a06a in /home/juan/anaconda3/bin/python)\nframe #16: _PyObject_FastCallKeywords + 0x128 (0x5595cb18ae28 in /home/juan/anaconda3/bin/python)\nframe #17: _PyEval_EvalFrameDefault + 0x4a66 (0x5595cb1da626 in /home/juan/anaconda3/bin/python)\nframe #18: _PyEval_EvalCodeWithName + 0x2f9 (0x5595cb12f6f9 in /home/juan/anaconda3/bin/python)\nframe #19: _PyFunction_FastCallKeywords + 0x387 (0x5595cb175917 in /home/juan/anaconda3/bin/python)\nframe #20: _PyEval_EvalFrameDefault + 0x4b09 (0x5595cb1da6c9 in /home/juan/anaconda3/bin/python)\nframe #21: _PyEval_EvalCodeWithName + 0x2f9 (0x5595cb12f6f9 in /home/juan/anaconda3/bin/python)\nframe #22: PyEval_EvalCodeEx + 0x44 (0x5595cb1305f4 in /home/juan/anaconda3/bin/python)\nframe #23: PyEval_EvalCode + 0x1c (0x5595cb13061c in /home/juan/anaconda3/bin/python)\nframe #24: <unknown function> + 0x1d08bd (0x5595cb1e58bd in /home/juan/anaconda3/bin/python)\nframe #25: _PyMethodDef_RawFastCallKeywords + 0xe9 (0x5595cb175f99 in /home/juan/anaconda3/bin/python)\nframe #26: _PyCFunction_FastCallKeywords + 0x21 (0x5595cb176231 in /home/juan/anaconda3/bin/python)\nframe #27: _PyEval_EvalFrameDefault + 0x4764 (0x5595cb1da324 in /home/juan/anaconda3/bin/python)\nframe #28: _PyGen_Send + 0x2a2 (0x5595cb18be42 in /home/juan/anaconda3/bin/python)\nframe #29: _PyEval_EvalFrameDefault + 0x1a87 (0x5595cb1d7647 in /home/juan/anaconda3/bin/python)\nframe #30: _PyGen_Send + 0x2a2 (0x5595cb18be42 in /home/juan/anaconda3/bin/python)\nframe #31: _PyEval_EvalFrameDefault + 0x1a87 (0x5595cb1d7647 in /home/juan/anaconda3/bin/python)\nframe #32: _PyGen_Send + 0x2a2 (0x5595cb18be42 in /home/juan/anaconda3/bin/python)\nframe #33: _PyMethodDef_RawFastCallKeywords + 0x8d (0x5595cb175f3d in /home/juan/anaconda3/bin/python)\nframe #34: _PyMethodDescr_FastCallKeywords + 0x4f (0x5595cb18ac6f in /home/juan/anaconda3/bin/python)\nframe #35: _PyEval_EvalFrameDefault + 0x4c5c (0x5595cb1da81c in /home/juan/anaconda3/bin/python)\nframe #36: _PyFunction_FastCallKeywords + 0xfb (0x5595cb17568b in /home/juan/anaconda3/bin/python)\nframe #37: _PyEval_EvalFrameDefault + 0x416 (0x5595cb1d5fd6 in /home/juan/anaconda3/bin/python)\nframe #38: _PyFunction_FastCallKeywords + 0xfb (0x5595cb17568b in /home/juan/anaconda3/bin/python)\nframe #39: _PyEval_EvalFrameDefault + 0x6a0 (0x5595cb1d6260 in /home/juan/anaconda3/bin/python)\nframe #40: _PyEval_EvalCodeWithName + 0x2f9 (0x5595cb12f6f9 in /home/juan/anaconda3/bin/python)\nframe #41: _PyFunction_FastCallDict + 0x400 (0x5595cb130a30 in /home/juan/anaconda3/bin/python)\nframe #42: _PyObject_Call_Prepend + 0x63 (0x5595cb14b943 in /home/juan/anaconda3/bin/python)\nframe #43: PyObject_Call + 0x6e (0x5595cb13eb9e in /home/juan/anaconda3/bin/python)\nframe #44: _PyEval_EvalFrameDefault + 0x1e35 (0x5595cb1d79f5 in /home/juan/anaconda3/bin/python)\nframe #45: _PyEval_EvalCodeWithName + 0x5da (0x5595cb12f9da in /home/juan/anaconda3/bin/python)\nframe #46: _PyFunction_FastCallKeywords + 0x387 (0x5595cb175917 in /home/juan/anaconda3/bin/python)\nframe #47: _PyEval_EvalFrameDefault + 0x14e6 (0x5595cb1d70a6 in /home/juan/anaconda3/bin/python)\nframe #48: <unknown function> + 0x176909 (0x5595cb18b909 in /home/juan/anaconda3/bin/python)\nframe #49: _PyMethodDef_RawFastCallKeywords + 0xe9 (0x5595cb175f99 in /home/juan/anaconda3/bin/python)\nframe #50: _PyCFunction_FastCallKeywords + 0x21 (0x5595cb176231 in /home/juan/anaconda3/bin/python)\nframe #51: _PyEval_EvalFrameDefault + 0x4764 (0x5595cb1da324 in /home/juan/anaconda3/bin/python)\nframe #52: _PyEval_EvalCodeWithName + 0x5da (0x5595cb12f9da in /home/juan/anaconda3/bin/python)\nframe #53: _PyFunction_FastCallKeywords + 0x387 (0x5595cb175917 in /home/juan/anaconda3/bin/python)\nframe #54: _PyEval_EvalFrameDefault + 0x6a0 (0x5595cb1d6260 in /home/juan/anaconda3/bin/python)\nframe #55: <unknown function> + 0x176909 (0x5595cb18b909 in /home/juan/anaconda3/bin/python)\nframe #56: _PyMethodDef_RawFastCallKeywords + 0xe9 (0x5595cb175f99 in /home/juan/anaconda3/bin/python)\nframe #57: _PyCFunction_FastCallKeywords + 0x21 (0x5595cb176231 in /home/juan/anaconda3/bin/python)\nframe #58: _PyEval_EvalFrameDefault + 0x4764 (0x5595cb1da324 in /home/juan/anaconda3/bin/python)\nframe #59: _PyEval_EvalCodeWithName + 0x5da (0x5595cb12f9da in /home/juan/anaconda3/bin/python)\nframe #60: _PyFunction_FastCallKeywords + 0x387 (0x5595cb175917 in /home/juan/anaconda3/bin/python)\nframe #61: _PyEval_EvalFrameDefault + 0x416 (0x5595cb1d5fd6 in /home/juan/anaconda3/bin/python)\nframe #62: <unknown function> + 0x176909 (0x5595cb18b909 in /home/juan/anaconda3/bin/python)\nframe #63: _PyMethodDef_RawFastCallKeywords + 0xe9 (0x5595cb175f99 in /home/juan/anaconda3/bin/python)\n",
     "output_type": "error",
     "traceback": [
      "\u001b[0;31m---------------------------------------------------------------------------\u001b[0m",
      "\u001b[0;31mRuntimeError\u001b[0m                              Traceback (most recent call last)",
      "\u001b[0;32m<ipython-input-4-82be3a21de01>\u001b[0m in \u001b[0;36m<module>\u001b[0;34m\u001b[0m\n\u001b[1;32m     21\u001b[0m \u001b[0mprmt_path\u001b[0m       \u001b[0;34m=\u001b[0m \u001b[0mos\u001b[0m\u001b[0;34m.\u001b[0m\u001b[0mpath\u001b[0m\u001b[0;34m.\u001b[0m\u001b[0mjoin\u001b[0m\u001b[0;34m(\u001b[0m\u001b[0mos\u001b[0m\u001b[0;34m.\u001b[0m\u001b[0mgetcwd\u001b[0m\u001b[0;34m(\u001b[0m\u001b[0;34m)\u001b[0m\u001b[0;34m,\u001b[0m\u001b[0;34m'train_parameters/GrayscaleImages/LADMM_Net_layer_%d_ratio_%d'\u001b[0m\u001b[0;34m%\u001b[0m\u001b[0;34m(\u001b[0m\u001b[0mlayer_num\u001b[0m\u001b[0;34m,\u001b[0m \u001b[0mcompression_rate\u001b[0m\u001b[0;34m)\u001b[0m\u001b[0;34m)\u001b[0m\u001b[0;34m\u001b[0m\u001b[0;34m\u001b[0m\u001b[0m\n\u001b[1;32m     22\u001b[0m \u001b[0mmodel_dir\u001b[0m \u001b[0;34m=\u001b[0m \u001b[0;34m\"./train_parameters/GrayscaleImages/LADMM_Net_layer_%d_ratio_%d\"\u001b[0m \u001b[0;34m%\u001b[0m \u001b[0;34m(\u001b[0m\u001b[0mlayer_num\u001b[0m\u001b[0;34m,\u001b[0m \u001b[0mcompression_rate\u001b[0m\u001b[0;34m)\u001b[0m\u001b[0;34m\u001b[0m\u001b[0;34m\u001b[0m\u001b[0m\n\u001b[0;32m---> 23\u001b[0;31m \u001b[0mmodel\u001b[0m\u001b[0;34m.\u001b[0m\u001b[0mload_state_dict\u001b[0m\u001b[0;34m(\u001b[0m\u001b[0mtorch\u001b[0m\u001b[0;34m.\u001b[0m\u001b[0mload\u001b[0m\u001b[0;34m(\u001b[0m\u001b[0;34m'./%s/net_params_%d.pkl'\u001b[0m \u001b[0;34m%\u001b[0m \u001b[0;34m(\u001b[0m\u001b[0mmodel_dir\u001b[0m\u001b[0;34m,\u001b[0m \u001b[0mepochs\u001b[0m\u001b[0;34m)\u001b[0m\u001b[0;34m)\u001b[0m\u001b[0;34m)\u001b[0m\u001b[0;34m\u001b[0m\u001b[0;34m\u001b[0m\u001b[0m\n\u001b[0m",
      "\u001b[0;32m~/anaconda3/lib/python3.7/site-packages/torch/serialization.py\u001b[0m in \u001b[0;36mload\u001b[0;34m(f, map_location, pickle_module, **pickle_load_args)\u001b[0m\n\u001b[1;32m    525\u001b[0m     \u001b[0;32mwith\u001b[0m \u001b[0m_open_file_like\u001b[0m\u001b[0;34m(\u001b[0m\u001b[0mf\u001b[0m\u001b[0;34m,\u001b[0m \u001b[0;34m'rb'\u001b[0m\u001b[0;34m)\u001b[0m \u001b[0;32mas\u001b[0m \u001b[0mopened_file\u001b[0m\u001b[0;34m:\u001b[0m\u001b[0;34m\u001b[0m\u001b[0;34m\u001b[0m\u001b[0m\n\u001b[1;32m    526\u001b[0m         \u001b[0;32mif\u001b[0m \u001b[0m_is_zipfile\u001b[0m\u001b[0;34m(\u001b[0m\u001b[0mopened_file\u001b[0m\u001b[0;34m)\u001b[0m\u001b[0;34m:\u001b[0m\u001b[0;34m\u001b[0m\u001b[0;34m\u001b[0m\u001b[0m\n\u001b[0;32m--> 527\u001b[0;31m             \u001b[0;32mwith\u001b[0m \u001b[0m_open_zipfile_reader\u001b[0m\u001b[0;34m(\u001b[0m\u001b[0mf\u001b[0m\u001b[0;34m)\u001b[0m \u001b[0;32mas\u001b[0m \u001b[0mopened_zipfile\u001b[0m\u001b[0;34m:\u001b[0m\u001b[0;34m\u001b[0m\u001b[0;34m\u001b[0m\u001b[0m\n\u001b[0m\u001b[1;32m    528\u001b[0m                 \u001b[0;32mreturn\u001b[0m \u001b[0m_load\u001b[0m\u001b[0;34m(\u001b[0m\u001b[0mopened_zipfile\u001b[0m\u001b[0;34m,\u001b[0m \u001b[0mmap_location\u001b[0m\u001b[0;34m,\u001b[0m \u001b[0mpickle_module\u001b[0m\u001b[0;34m,\u001b[0m \u001b[0;34m**\u001b[0m\u001b[0mpickle_load_args\u001b[0m\u001b[0;34m)\u001b[0m\u001b[0;34m\u001b[0m\u001b[0;34m\u001b[0m\u001b[0m\n\u001b[1;32m    529\u001b[0m         \u001b[0;32mreturn\u001b[0m \u001b[0m_legacy_load\u001b[0m\u001b[0;34m(\u001b[0m\u001b[0mopened_file\u001b[0m\u001b[0;34m,\u001b[0m \u001b[0mmap_location\u001b[0m\u001b[0;34m,\u001b[0m \u001b[0mpickle_module\u001b[0m\u001b[0;34m,\u001b[0m \u001b[0;34m**\u001b[0m\u001b[0mpickle_load_args\u001b[0m\u001b[0;34m)\u001b[0m\u001b[0;34m\u001b[0m\u001b[0;34m\u001b[0m\u001b[0m\n",
      "\u001b[0;32m~/anaconda3/lib/python3.7/site-packages/torch/serialization.py\u001b[0m in \u001b[0;36m__init__\u001b[0;34m(self, name_or_buffer)\u001b[0m\n\u001b[1;32m    222\u001b[0m \u001b[0;32mclass\u001b[0m \u001b[0m_open_zipfile_reader\u001b[0m\u001b[0;34m(\u001b[0m\u001b[0m_opener\u001b[0m\u001b[0;34m)\u001b[0m\u001b[0;34m:\u001b[0m\u001b[0;34m\u001b[0m\u001b[0;34m\u001b[0m\u001b[0m\n\u001b[1;32m    223\u001b[0m     \u001b[0;32mdef\u001b[0m \u001b[0m__init__\u001b[0m\u001b[0;34m(\u001b[0m\u001b[0mself\u001b[0m\u001b[0;34m,\u001b[0m \u001b[0mname_or_buffer\u001b[0m\u001b[0;34m)\u001b[0m\u001b[0;34m:\u001b[0m\u001b[0;34m\u001b[0m\u001b[0;34m\u001b[0m\u001b[0m\n\u001b[0;32m--> 224\u001b[0;31m         \u001b[0msuper\u001b[0m\u001b[0;34m(\u001b[0m\u001b[0m_open_zipfile_reader\u001b[0m\u001b[0;34m,\u001b[0m \u001b[0mself\u001b[0m\u001b[0;34m)\u001b[0m\u001b[0;34m.\u001b[0m\u001b[0m__init__\u001b[0m\u001b[0;34m(\u001b[0m\u001b[0mtorch\u001b[0m\u001b[0;34m.\u001b[0m\u001b[0m_C\u001b[0m\u001b[0;34m.\u001b[0m\u001b[0mPyTorchFileReader\u001b[0m\u001b[0;34m(\u001b[0m\u001b[0mname_or_buffer\u001b[0m\u001b[0;34m)\u001b[0m\u001b[0;34m)\u001b[0m\u001b[0;34m\u001b[0m\u001b[0;34m\u001b[0m\u001b[0m\n\u001b[0m\u001b[1;32m    225\u001b[0m \u001b[0;34m\u001b[0m\u001b[0m\n\u001b[1;32m    226\u001b[0m \u001b[0;34m\u001b[0m\u001b[0m\n",
      "\u001b[0;31mRuntimeError\u001b[0m: version_ <= kMaxSupportedFileFormatVersion INTERNAL ASSERT FAILED at /opt/conda/conda-bld/pytorch_1579022060824/work/caffe2/serialize/inline_container.cc:132, please report a bug to PyTorch. Attempted to read a PyTorch file with version 3, but the maximum supported version for reading is 2. Your PyTorch installation may be too old. (init at /opt/conda/conda-bld/pytorch_1579022060824/work/caffe2/serialize/inline_container.cc:132)\nframe #0: c10::Error::Error(c10::SourceLocation, std::string const&) + 0x47 (0x7ffac6d45627 in /home/juan/anaconda3/lib/python3.7/site-packages/torch/lib/libc10.so)\nframe #1: caffe2::serialize::PyTorchStreamReader::init() + 0x1f5b (0x7ffacb3649ab in /home/juan/anaconda3/lib/python3.7/site-packages/torch/lib/libtorch.so)\nframe #2: caffe2::serialize::PyTorchStreamReader::PyTorchStreamReader(std::string const&) + 0x64 (0x7ffacb365bc4 in /home/juan/anaconda3/lib/python3.7/site-packages/torch/lib/libtorch.so)\nframe #3: <unknown function> + 0x6d2146 (0x7ffaf8db0146 in /home/juan/anaconda3/lib/python3.7/site-packages/torch/lib/libtorch_python.so)\nframe #4: <unknown function> + 0x28ba06 (0x7ffaf8969a06 in /home/juan/anaconda3/lib/python3.7/site-packages/torch/lib/libtorch_python.so)\nframe #5: _PyMethodDef_RawFastCallDict + 0x265 (0x5595cb14da55 in /home/juan/anaconda3/bin/python)\nframe #6: _PyCFunction_FastCallDict + 0x21 (0x5595cb14dbd1 in /home/juan/anaconda3/bin/python)\nframe #7: _PyObject_Call_Prepend + 0x63 (0x5595cb14b943 in /home/juan/anaconda3/bin/python)\nframe #8: PyObject_Call + 0x6e (0x5595cb13eb9e in /home/juan/anaconda3/bin/python)\nframe #9: <unknown function> + 0xb6726 (0x5595cb0cb726 in /home/juan/anaconda3/bin/python)\nframe #10: _PyObject_FastCallKeywords + 0x128 (0x5595cb18ae28 in /home/juan/anaconda3/bin/python)\nframe #11: _PyEval_EvalFrameDefault + 0x52cf (0x5595cb1dae8f in /home/juan/anaconda3/bin/python)\nframe #12: _PyEval_EvalCodeWithName + 0x5da (0x5595cb12f9da in /home/juan/anaconda3/bin/python)\nframe #13: _PyFunction_FastCallDict + 0x1d5 (0x5595cb130805 in /home/juan/anaconda3/bin/python)\nframe #14: _PyObject_Call_Prepend + 0x63 (0x5595cb14b943 in /home/juan/anaconda3/bin/python)\nframe #15: <unknown function> + 0x17506a (0x5595cb18a06a in /home/juan/anaconda3/bin/python)\nframe #16: _PyObject_FastCallKeywords + 0x128 (0x5595cb18ae28 in /home/juan/anaconda3/bin/python)\nframe #17: _PyEval_EvalFrameDefault + 0x4a66 (0x5595cb1da626 in /home/juan/anaconda3/bin/python)\nframe #18: _PyEval_EvalCodeWithName + 0x2f9 (0x5595cb12f6f9 in /home/juan/anaconda3/bin/python)\nframe #19: _PyFunction_FastCallKeywords + 0x387 (0x5595cb175917 in /home/juan/anaconda3/bin/python)\nframe #20: _PyEval_EvalFrameDefault + 0x4b09 (0x5595cb1da6c9 in /home/juan/anaconda3/bin/python)\nframe #21: _PyEval_EvalCodeWithName + 0x2f9 (0x5595cb12f6f9 in /home/juan/anaconda3/bin/python)\nframe #22: PyEval_EvalCodeEx + 0x44 (0x5595cb1305f4 in /home/juan/anaconda3/bin/python)\nframe #23: PyEval_EvalCode + 0x1c (0x5595cb13061c in /home/juan/anaconda3/bin/python)\nframe #24: <unknown function> + 0x1d08bd (0x5595cb1e58bd in /home/juan/anaconda3/bin/python)\nframe #25: _PyMethodDef_RawFastCallKeywords + 0xe9 (0x5595cb175f99 in /home/juan/anaconda3/bin/python)\nframe #26: _PyCFunction_FastCallKeywords + 0x21 (0x5595cb176231 in /home/juan/anaconda3/bin/python)\nframe #27: _PyEval_EvalFrameDefault + 0x4764 (0x5595cb1da324 in /home/juan/anaconda3/bin/python)\nframe #28: _PyGen_Send + 0x2a2 (0x5595cb18be42 in /home/juan/anaconda3/bin/python)\nframe #29: _PyEval_EvalFrameDefault + 0x1a87 (0x5595cb1d7647 in /home/juan/anaconda3/bin/python)\nframe #30: _PyGen_Send + 0x2a2 (0x5595cb18be42 in /home/juan/anaconda3/bin/python)\nframe #31: _PyEval_EvalFrameDefault + 0x1a87 (0x5595cb1d7647 in /home/juan/anaconda3/bin/python)\nframe #32: _PyGen_Send + 0x2a2 (0x5595cb18be42 in /home/juan/anaconda3/bin/python)\nframe #33: _PyMethodDef_RawFastCallKeywords + 0x8d (0x5595cb175f3d in /home/juan/anaconda3/bin/python)\nframe #34: _PyMethodDescr_FastCallKeywords + 0x4f (0x5595cb18ac6f in /home/juan/anaconda3/bin/python)\nframe #35: _PyEval_EvalFrameDefault + 0x4c5c (0x5595cb1da81c in /home/juan/anaconda3/bin/python)\nframe #36: _PyFunction_FastCallKeywords + 0xfb (0x5595cb17568b in /home/juan/anaconda3/bin/python)\nframe #37: _PyEval_EvalFrameDefault + 0x416 (0x5595cb1d5fd6 in /home/juan/anaconda3/bin/python)\nframe #38: _PyFunction_FastCallKeywords + 0xfb (0x5595cb17568b in /home/juan/anaconda3/bin/python)\nframe #39: _PyEval_EvalFrameDefault + 0x6a0 (0x5595cb1d6260 in /home/juan/anaconda3/bin/python)\nframe #40: _PyEval_EvalCodeWithName + 0x2f9 (0x5595cb12f6f9 in /home/juan/anaconda3/bin/python)\nframe #41: _PyFunction_FastCallDict + 0x400 (0x5595cb130a30 in /home/juan/anaconda3/bin/python)\nframe #42: _PyObject_Call_Prepend + 0x63 (0x5595cb14b943 in /home/juan/anaconda3/bin/python)\nframe #43: PyObject_Call + 0x6e (0x5595cb13eb9e in /home/juan/anaconda3/bin/python)\nframe #44: _PyEval_EvalFrameDefault + 0x1e35 (0x5595cb1d79f5 in /home/juan/anaconda3/bin/python)\nframe #45: _PyEval_EvalCodeWithName + 0x5da (0x5595cb12f9da in /home/juan/anaconda3/bin/python)\nframe #46: _PyFunction_FastCallKeywords + 0x387 (0x5595cb175917 in /home/juan/anaconda3/bin/python)\nframe #47: _PyEval_EvalFrameDefault + 0x14e6 (0x5595cb1d70a6 in /home/juan/anaconda3/bin/python)\nframe #48: <unknown function> + 0x176909 (0x5595cb18b909 in /home/juan/anaconda3/bin/python)\nframe #49: _PyMethodDef_RawFastCallKeywords + 0xe9 (0x5595cb175f99 in /home/juan/anaconda3/bin/python)\nframe #50: _PyCFunction_FastCallKeywords + 0x21 (0x5595cb176231 in /home/juan/anaconda3/bin/python)\nframe #51: _PyEval_EvalFrameDefault + 0x4764 (0x5595cb1da324 in /home/juan/anaconda3/bin/python)\nframe #52: _PyEval_EvalCodeWithName + 0x5da (0x5595cb12f9da in /home/juan/anaconda3/bin/python)\nframe #53: _PyFunction_FastCallKeywords + 0x387 (0x5595cb175917 in /home/juan/anaconda3/bin/python)\nframe #54: _PyEval_EvalFrameDefault + 0x6a0 (0x5595cb1d6260 in /home/juan/anaconda3/bin/python)\nframe #55: <unknown function> + 0x176909 (0x5595cb18b909 in /home/juan/anaconda3/bin/python)\nframe #56: _PyMethodDef_RawFastCallKeywords + 0xe9 (0x5595cb175f99 in /home/juan/anaconda3/bin/python)\nframe #57: _PyCFunction_FastCallKeywords + 0x21 (0x5595cb176231 in /home/juan/anaconda3/bin/python)\nframe #58: _PyEval_EvalFrameDefault + 0x4764 (0x5595cb1da324 in /home/juan/anaconda3/bin/python)\nframe #59: _PyEval_EvalCodeWithName + 0x5da (0x5595cb12f9da in /home/juan/anaconda3/bin/python)\nframe #60: _PyFunction_FastCallKeywords + 0x387 (0x5595cb175917 in /home/juan/anaconda3/bin/python)\nframe #61: _PyEval_EvalFrameDefault + 0x416 (0x5595cb1d5fd6 in /home/juan/anaconda3/bin/python)\nframe #62: <unknown function> + 0x176909 (0x5595cb18b909 in /home/juan/anaconda3/bin/python)\nframe #63: _PyMethodDef_RawFastCallKeywords + 0xe9 (0x5595cb175f99 in /home/juan/anaconda3/bin/python)\n"
     ]
    }
   ],
   "source": [
    "M = 256\n",
    "N = 256\n",
    "L = 1\n",
    "\n",
    "layer_num               = 16 \n",
    "learning_rate           = 0.001\n",
    "epochs                  = 512\n",
    "num_training_samples    = 80\n",
    "num_samples             = 80\n",
    "batch_size              = 1\n",
    "num_processed_images    = 1\n",
    "compression_rate        = 25\n",
    "\n",
    "model     = LADMMcsimageNet(layer_num)\n",
    "model     = nn.DataParallel(model)\n",
    "model     = model.to(device)\n",
    "optimizer = torch.optim.Adam(model.parameters(), lr=learning_rate)\n",
    "\n",
    "sample_path     = os.path.join(os.getcwd(),'data/GrayscaleImages/testimages/Clean_measurements_25')\n",
    "data_path       = os.path.join(os.getcwd(),'data/GrayscaleImages/testimages')\n",
    "prmt_path       = os.path.join(os.getcwd(),'train_parameters/GrayscaleImages/LADMM_Net_layer_%d_ratio_%d'%(layer_num, compression_rate))\n",
    "model_dir = \"./train_parameters/GrayscaleImages/LADMM_Net_layer_%d_ratio_%d\" % (layer_num, compression_rate)\n",
    "model.load_state_dict(torch.load('./%s/net_params_%d.pkl' % (model_dir, epochs)))"
   ]
  },
  {
   "cell_type": "markdown",
   "metadata": {
    "id": "bnFw4wIvf7bD"
   },
   "source": [
    "# Testing stage"
   ]
  },
  {
   "cell_type": "code",
   "execution_count": 7,
   "metadata": {
    "colab": {
     "base_uri": "https://localhost:8080/",
     "height": 144
    },
    "executionInfo": {
     "elapsed": 41216,
     "status": "ok",
     "timestamp": 1614104835827,
     "user": {
      "displayName": "Juan Ramírez",
      "photoUrl": "",
      "userId": "10349054824212831472"
     },
     "user_tz": -60
    },
    "id": "ZnekgvXkgAso",
    "outputId": "88316f2a-57ea-475c-edbc-4af018bbc6a3"
   },
   "outputs": [
    {
     "data": {
      "image/png": "[encoded data removed]",
      "text/plain": [
       "<Figure size 648x288 with 4 Axes>"
      ]
     },
     "metadata": {
      "tags": []
     },
     "output_type": "display_data"
    }
   ],
   "source": [
    "fpointer        = 3\n",
    "filename        = 'samples_%03d.mat'%(fpointer)\n",
    "y               = sio.loadmat(os.path.join(sample_path, filename))['y']\n",
    "y               = torch.from_numpy(y).type(torch.FloatTensor).to(device)\n",
    "HTy             = torch.t(torch.mm(torch.t(H), y)).to(device)\n",
    "\n",
    "[x_test, loss_layers_sym] = model(H, HTy, 33, 33)\n",
    "\n",
    "fimage          = 'gray_%03d.mat'%(fpointer)\n",
    "I               = sio.loadmat(os.path.join(data_path, fimage))['I']\n",
    "[Iorg, row, col, Ipad, row_new, col_new] = imread_CS_py(I)\n",
    "x   = img2col_py(Ipad, 33) / 255.0       \n",
    "x   = torch.from_numpy(x).type(torch.FloatTensor)\n",
    "x   = torch.t(x).to(device)\n",
    "\n",
    "\n",
    "#x1 = 110\n",
    "#x2 = x1+33\n",
    "#y1 = 99\n",
    "#y2 = y1 + 33\n",
    "#wd = 3\n",
    "\n",
    "#x3 = 120\n",
    "#x4 = 150\n",
    "#y3 = 180\n",
    "#y4 = 240\n",
    "\n",
    "\n",
    "x1 = 132\n",
    "x2 = x1+33\n",
    "y1 = 132\n",
    "y2 = y1 + 33\n",
    "wd = 3\n",
    "\n",
    "x3 = 120\n",
    "x4 = 150\n",
    "y3 = 180\n",
    "y4 = 240\n",
    "\n",
    "I[x1:x2,y1-wd:y1]=255\n",
    "I[x1:x2,y2:y2+wd]=255\n",
    "I[x1-wd:x1,y1-wd:y2+wd]=255\n",
    "I[x2:x2+wd,y1-wd:y2+wd]=255\n",
    "\n",
    "plt.figure(figsize=(9,4))\n",
    "\n",
    "plt.subplot(1,4,1)\n",
    "plt.xticks([])\n",
    "plt.yticks([])\n",
    "plt.imshow(I, cmap='gray')\n",
    "\n",
    "plt.subplot(1,4,2)\n",
    "plt.xticks([])\n",
    "plt.yticks([])\n",
    "plt.imshow(I[x1:x2,y1:y2], cmap='gray')\n",
    "\n",
    "\n",
    "Prediction_value = x.cpu().data.numpy()\n",
    "I = 255 * np.clip(col2im_CS_py(Prediction_value.transpose(), row, col, row_new, col_new), 0, 1)\n",
    "\n",
    "Prediction_value = x_test.cpu().data.numpy()\n",
    "Io= 255 * np.clip(col2im_CS_py(Prediction_value.transpose(), row, col, row_new, col_new), 0, 1)\n",
    "\n",
    "loss_discrepancy    = np.mean(np.power(Io - I, 2))\n",
    "psnr                = torch.mul(10, torch.log10(torch.div(255*255, loss_discrepancy))) \n",
    "\n",
    "Io[x1:x2,y1-wd:y1]=255\n",
    "Io[x1:x2,y2:y2+wd]=255\n",
    "Io[x1-wd:x1,y1-wd:y2+wd]=255\n",
    "Io[x2:x2+wd,y1-wd:y2+wd]=255\n",
    "\n",
    "plt.subplot(1,4,3)\n",
    "plt.xticks([])\n",
    "plt.yticks([])\n",
    "plt.imshow(Io, cmap='gray')\n",
    "plt.text(100, 235, 'PSNR: %.2f dB'%(psnr), fontsize=8,\n",
    "        bbox={'facecolor': 'white', 'alpha': 0.95, 'pad': 3})\n",
    "\n",
    "plt.subplot(1,4,4)\n",
    "plt.xticks([])\n",
    "plt.yticks([])\n",
    "plt.imshow(Io[x1:x2,y1:y2], cmap='gray')\n",
    "plt.savefig('test.png', dpi=300)"
   ]
  }
 ],
 "metadata": {
  "accelerator": "GPU",
  "colab": {
   "authorship_tag": "ABX9TyPyLR2hGbCHPKnrkw3hANer",
   "collapsed_sections": [],
   "name": "LADMM_TestCSI.ipynb",
   "provenance": [
    {
     "file_id": "1C86j5nzwPWq3IsqnijPhfiet_YCIAepF",
     "timestamp": 1614076785431
    },
    {
     "file_id": "1s39Kdq7BAIrAzSXuh8y0scz7g-oKr4HH",
     "timestamp": 1614030180900
    }
   ],
   "toc_visible": true
  },
  "kernelspec": {
   "display_name": "Python 3",
   "language": "python",
   "name": "python3"
  },
  "language_info": {
   "codemirror_mode": {
    "name": "ipython",
    "version": 3
   },
   "file_extension": ".py",
   "mimetype": "text/x-python",
   "name": "python",
   "nbconvert_exporter": "python",
   "pygments_lexer": "ipython3",
   "version": "3.7.6"
  }
 },
 "nbformat": 4,
 "nbformat_minor": 1
}
