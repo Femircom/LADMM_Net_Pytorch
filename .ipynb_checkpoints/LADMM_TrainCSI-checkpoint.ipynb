{
 "cells": [
  {
   "cell_type": "markdown",
   "metadata": {
    "id": "CMzd-RxcPG7z"
   },
   "source": [
    "# Import libraries"
   ]
  },
  {
   "cell_type": "code",
   "execution_count": null,
   "metadata": {
    "colab": {
     "base_uri": "https://localhost:8080/"
    },
    "executionInfo": {
     "elapsed": 1691,
     "status": "ok",
     "timestamp": 1614035015842,
     "user": {
      "displayName": "Juan Ramírez",
      "photoUrl": "",
      "userId": "10349054824212831472"
     },
     "user_tz": -60
    },
    "id": "rsGXqAz8PPcN",
    "outputId": "2013a409-1d47-4275-b231-29c78254d412"
   },
   "outputs": [],
   "source": [
    "from google.colab import drive\n",
    "#drive.mount('/content/gdrive/')\n",
    "drive.mount(\"/content/gdrive/\", force_remount=True)"
   ]
  },
  {
   "cell_type": "code",
   "execution_count": null,
   "metadata": {
    "colab": {
     "base_uri": "https://localhost:8080/"
    },
    "executionInfo": {
     "elapsed": 1687,
     "status": "ok",
     "timestamp": 1614035015845,
     "user": {
      "displayName": "Juan Ramírez",
      "photoUrl": "",
      "userId": "10349054824212831472"
     },
     "user_tz": -60
    },
    "id": "0xuqE7P2Pp7t",
    "outputId": "dba4ef35-3054-45da-b96c-110c58008480"
   },
   "outputs": [],
   "source": [
    "%cd \"/content/gdrive/My Drive/Colab Notebooks/LADMM_Net_Pytorch\"\n",
    "%ls"
   ]
  },
  {
   "cell_type": "code",
   "execution_count": null,
   "metadata": {
    "id": "vHzrw1PePx5V"
   },
   "outputs": [],
   "source": [
    "import os\n",
    "import numpy as np\n",
    "import numpy.matlib\n",
    "import matplotlib.pyplot as plt\n",
    "import scipy.io as sio\n",
    "\n",
    "from models.LadmmNet import LADMMcsimageNet\n",
    "import torch\n",
    "import torch.nn as nn\n",
    "\n",
    "gpu_list = '0'\n",
    "os.environ[\"CUDA_DEVICE_ORDER\"] = \"PCI_BUS_ID\"\n",
    "os.environ[\"CUDA_VISIBLE_DEVICES\"] = gpu_list\n",
    "device = torch.device(\"cuda:0\" if torch.cuda.is_available() else \"cpu\")"
   ]
  },
  {
   "cell_type": "markdown",
   "metadata": {
    "id": "ipwDM8CZuH9i"
   },
   "source": [
    "# Utility functions"
   ]
  },
  {
   "cell_type": "code",
   "execution_count": null,
   "metadata": {
    "id": "S-gREclZuW8v"
   },
   "outputs": [],
   "source": [
    "def imread_CS_py(Iorg):\n",
    "    block_size = 33\n",
    "    [row, col] = Iorg.shape\n",
    "    row_pad = block_size-np.mod(row,block_size)\n",
    "    col_pad = block_size-np.mod(col,block_size)\n",
    "    Ipad = np.concatenate((Iorg, np.zeros([row, col_pad])), axis=1)\n",
    "    Ipad = np.concatenate((Ipad, np.zeros([row_pad, col+col_pad])), axis=0)\n",
    "    [row_new, col_new] = Ipad.shape\n",
    "\n",
    "    return [Iorg, row, col, Ipad, row_new, col_new]\n",
    "\n",
    "def img2col_py(Ipad, block_size):\n",
    "    [row, col] = Ipad.shape\n",
    "    row_block = row/block_size\n",
    "    col_block = col/block_size\n",
    "    block_num = int(row_block*col_block)\n",
    "    img_col = np.zeros([block_size**2, block_num])\n",
    "    count = 0\n",
    "    for x in range(0, row-block_size+1, block_size):\n",
    "        for y in range(0, col-block_size+1, block_size):\n",
    "            img_col[:, count] = Ipad[x:x+block_size, y:y+block_size].reshape([-1])\n",
    "            count = count + 1\n",
    "    return img_col\n",
    "\n",
    "def col2im_CS_py(X_col, row, col, row_new, col_new):\n",
    "    block_size = 33\n",
    "    X0_rec = np.zeros([row_new, col_new])\n",
    "    count = 0\n",
    "    for x in range(0, row_new-block_size+1, block_size):\n",
    "        for y in range(0, col_new-block_size+1, block_size):\n",
    "            X0_rec[x:x+block_size, y:y+block_size] = X_col[:, count].reshape([block_size, block_size])\n",
    "            count = count + 1\n",
    "    X_rec = X0_rec[:row, :col]\n",
    "    return X_rec"
   ]
  },
  {
   "cell_type": "markdown",
   "metadata": {
    "id": "rRQCOuAhSFkJ"
   },
   "source": [
    "# Measurement matrices"
   ]
  },
  {
   "cell_type": "code",
   "execution_count": null,
   "metadata": {
    "id": "FJSePPPcSSjK"
   },
   "outputs": [],
   "source": [
    "fname1       = 'H.mat'\n",
    "data_path    = os.path.join(os.getcwd(),'data/GrayscaleImages/Clean_measurements_25')\n",
    "H            = sio.loadmat(os.path.join(data_path, fname1))['H']\n",
    "H            = torch.from_numpy(H).type(torch.FloatTensor)\n",
    "H            = H.to(device)"
   ]
  },
  {
   "cell_type": "markdown",
   "metadata": {
    "id": "QX09iovOblld"
   },
   "source": [
    "# LADMM parameters"
   ]
  },
  {
   "cell_type": "code",
   "execution_count": null,
   "metadata": {
    "colab": {
     "base_uri": "https://localhost:8080/"
    },
    "executionInfo": {
     "elapsed": 4935,
     "status": "ok",
     "timestamp": 1614035019107,
     "user": {
      "displayName": "Juan Ramírez",
      "photoUrl": "",
      "userId": "10349054824212831472"
     },
     "user_tz": -60
    },
    "id": "ivEsq0T4b0_l",
    "outputId": "cb1feafe-bc36-47d7-dbed-ed999fd41285"
   },
   "outputs": [],
   "source": [
    "M = 256\n",
    "N = 256\n",
    "L = 1\n",
    "\n",
    "layer_num               = 16 \n",
    "learning_rate           = 0.001\n",
    "epochs                  = 513\n",
    "num_training_samples    = 80\n",
    "num_samples             = 80\n",
    "batch_size              = 1\n",
    "num_processed_images    = 1\n",
    "compression_rate        = 25\n",
    "\n",
    "model     = LADMMcsimageNet(layer_num)\n",
    "model     = nn.DataParallel(model)\n",
    "model     = model.to(device)\n",
    "optimizer = torch.optim.Adam(model.parameters(), lr=learning_rate)\n",
    "\n",
    "sample_path     = os.path.join(os.getcwd(),'data/GrayscaleImages/Clean_measurements_25')\n",
    "data_path       = os.path.join(os.getcwd(),'data/GrayscaleImages')\n",
    "prmt_path       = os.path.join(os.getcwd(),'train_parameters/GrayscaleImages/LADMM_Net_layer_%d_ratio_%d'%(layer_num, compression_rate))\n",
    "model_dir = \"./train_parameters/GrayscaleImages/LADMM_Net_layer_%d_ratio_%d\" % (layer_num, compression_rate)"
   ]
  },
  {
   "cell_type": "markdown",
   "metadata": {
    "id": "bnFw4wIvf7bD"
   },
   "source": [
    "# Training stage"
   ]
  },
  {
   "cell_type": "code",
   "execution_count": null,
   "metadata": {
    "colab": {
     "base_uri": "https://localhost:8080/"
    },
    "executionInfo": {
     "elapsed": 6923501,
     "status": "ok",
     "timestamp": 1614041937677,
     "user": {
      "displayName": "Juan Ramírez",
      "photoUrl": "",
      "userId": "10349054824212831472"
     },
     "user_tz": -60
    },
    "id": "ZnekgvXkgAso",
    "outputId": "b7fbd58f-ba09-44c4-9f4e-40dff8331c1e"
   },
   "outputs": [],
   "source": [
    "batch_inner_loops = batch_size // num_processed_images\n",
    "psnr = np.zeros(epochs)\n",
    "# Training loop\n",
    "for epoch_i in range(0, epochs):\n",
    "    print(epoch_i)\n",
    "    batch_iter  = num_training_samples // batch_size\n",
    "    psnr_b      = np.zeros(batch_iter)\n",
    "    for data in range(0,batch_iter):\n",
    "        for j in range(0,batch_inner_loops):\n",
    "            for bs in range(0, num_processed_images):\n",
    "                indice      = data*num_processed_images + bs\n",
    "                fpointer    = indice + 1\n",
    "                fsamples_ms = 'samples_%03d.mat'%(fpointer)\n",
    "                y           = sio.loadmat(os.path.join(sample_path, fsamples_ms))['y']\n",
    "            \n",
    "            # Preparing input data\n",
    "            y       = torch.from_numpy(y).type(torch.FloatTensor)\n",
    "            y       = y.to(device)\n",
    "            HTy     = torch.mm(torch.t(H), y)\n",
    "            HTy     = torch.t(HTy)\n",
    "            HTy     = HTy.to(device)\n",
    "            del y\n",
    "       \n",
    "            [x_output, loss_layers_sym] = model(H, HTy, 33, 33)\n",
    "\n",
    "            loss_constraint = torch.mean(torch.pow(loss_layers_sym[0], 2))\n",
    "            for k in range(layer_num-1):\n",
    "                loss_constraint += float(torch.mean(torch.pow(loss_layers_sym[k+1], 2)))\n",
    "            \n",
    "            for bs in range(0, num_processed_images):\n",
    "                indice    = data*num_processed_images + bs\n",
    "                fpointer  = indice + 1\n",
    "                fimage    = 'gray_%03d.mat'%(fpointer)\n",
    "                I         = sio.loadmat(os.path.join(data_path, fimage))['I']\n",
    "\n",
    "            [Io, row, col, Ipad, row_new, col_new] = imread_CS_py(I)\n",
    "            x   = img2col_py(Ipad, 33) / 255.0       \n",
    "            x   = torch.from_numpy(x).type(torch.FloatTensor)\n",
    "            x   = torch.t(x)\n",
    "            x   = x.to(device)\n",
    "            \n",
    "            loss_discrepancy  = torch.mean(torch.pow(x_output - x, 2))           \n",
    "            \n",
    "            del x_output, I, Io, Ipad\n",
    "\n",
    "        loss_all = loss_discrepancy + torch.mul(0.01, loss_constraint)\n",
    "        psnr_batch = torch.mul(10, torch.log10(torch.div(1.0, loss_discrepancy))) \n",
    "        psnr_b[data] = psnr_batch; \n",
    "        \n",
    "        optimizer.zero_grad()\n",
    "        loss_all.backward()\n",
    "        optimizer.step()\n",
    "\n",
    "    psnr[epoch_i] = np.mean(psnr_b)\n",
    "    sio.savemat('csi_psnr_vs_epochs_layer_%d_ratio_%d.mat'%(layer_num, compression_rate),{\"psnr_vs_epochs\":psnr})    \n",
    "    print('Mean Epoch PSNR = %.2f dB'%(psnr[epoch_i]))\n",
    "    if epoch_i % 32 == 0:\n",
    "        torch.save(model.state_dict(), \"./%s/net_params_%d.pkl\" % (model_dir, epoch_i))\n",
    "        \n",
    "\n",
    "plt.figure()\n",
    "plt.plot(psnr)"
   ]
  }
 ],
 "metadata": {
  "accelerator": "GPU",
  "colab": {
   "authorship_tag": "ABX9TyPigdhH3I6Nf0wWhOAZTUse",
   "collapsed_sections": [],
   "name": "LADMM_TrainCSI.ipynb",
   "provenance": [
    {
     "file_id": "1s39Kdq7BAIrAzSXuh8y0scz7g-oKr4HH",
     "timestamp": 1614030180900
    }
   ],
   "toc_visible": true
  },
  "kernelspec": {
   "display_name": "Python 3",
   "language": "python",
   "name": "python3"
  },
  "language_info": {
   "codemirror_mode": {
    "name": "ipython",
    "version": 3
   },
   "file_extension": ".py",
   "mimetype": "text/x-python",
   "name": "python",
   "nbconvert_exporter": "python",
   "pygments_lexer": "ipython3",
   "version": "3.7.6"
  }
 },
 "nbformat": 4,
 "nbformat_minor": 1
}
