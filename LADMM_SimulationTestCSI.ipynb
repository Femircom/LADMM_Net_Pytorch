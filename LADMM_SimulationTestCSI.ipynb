{
 "cells": [
  {
   "cell_type": "markdown",
   "metadata": {
    "id": "CMzd-RxcPG7z"
   },
   "source": [
    "# Import libraries"
   ]
  },
  {
   "cell_type": "code",
   "execution_count": null,
   "metadata": {
    "executionInfo": {
     "elapsed": 2093,
     "status": "ok",
     "timestamp": 1614104683551,
     "user": {
      "displayName": "Juan Ramírez",
      "photoUrl": "",
      "userId": "10349054824212831472"
     },
     "user_tz": -60
    },
    "id": "vHzrw1PePx5V"
   },
   "outputs": [],
   "source": [
    "import os\n",
    "import numpy as np\n",
    "import numpy.matlib\n",
    "import matplotlib.pyplot as plt\n",
    "import scipy.io as sio\n",
    "\n",
    "from models.LadmmNet import LADMMcsimageNet\n",
    "import torch\n",
    "import torch.nn as nn\n",
    "\n",
    "gpu_list = '0'\n",
    "os.environ[\"CUDA_DEVICE_ORDER\"] = \"PCI_BUS_ID\"\n",
    "os.environ[\"CUDA_VISIBLE_DEVICES\"] = gpu_list\n",
    "device = torch.device(\"cuda:0\" if torch.cuda.is_available() else \"cpu\")"
   ]
  },
  {
   "cell_type": "markdown",
   "metadata": {
    "id": "ipwDM8CZuH9i"
   },
   "source": [
    "# Utility functions"
   ]
  },
  {
   "cell_type": "code",
   "execution_count": null,
   "metadata": {
    "executionInfo": {
     "elapsed": 2093,
     "status": "ok",
     "timestamp": 1614104683554,
     "user": {
      "displayName": "Juan Ramírez",
      "photoUrl": "",
      "userId": "10349054824212831472"
     },
     "user_tz": -60
    },
    "id": "S-gREclZuW8v"
   },
   "outputs": [],
   "source": [
    "def imread_CS_py(Iorg):\n",
    "    block_size = 33\n",
    "    [row, col] = Iorg.shape\n",
    "    row_pad = block_size-np.mod(row,block_size)\n",
    "    col_pad = block_size-np.mod(col,block_size)\n",
    "    Ipad = np.concatenate((Iorg, np.zeros([row, col_pad])), axis=1)\n",
    "    Ipad = np.concatenate((Ipad, np.zeros([row_pad, col+col_pad])), axis=0)\n",
    "    [row_new, col_new] = Ipad.shape\n",
    "\n",
    "    return [Iorg, row, col, Ipad, row_new, col_new]\n",
    "\n",
    "def img2col_py(Ipad, block_size):\n",
    "    [row, col] = Ipad.shape\n",
    "    row_block = row/block_size\n",
    "    col_block = col/block_size\n",
    "    block_num = int(row_block*col_block)\n",
    "    img_col = np.zeros([block_size**2, block_num])\n",
    "    count = 0\n",
    "    for x in range(0, row-block_size+1, block_size):\n",
    "        for y in range(0, col-block_size+1, block_size):\n",
    "            img_col[:, count] = Ipad[x:x+block_size, y:y+block_size].reshape([-1])\n",
    "            count = count + 1\n",
    "    return img_col\n",
    "\n",
    "def col2im_CS_py(X_col, row, col, row_new, col_new):\n",
    "    block_size = 33\n",
    "    X0_rec = np.zeros([row_new, col_new])\n",
    "    count = 0\n",
    "    for x in range(0, row_new-block_size+1, block_size):\n",
    "        for y in range(0, col_new-block_size+1, block_size):\n",
    "            X0_rec[x:x+block_size, y:y+block_size] = X_col[:, count].reshape([block_size, block_size])\n",
    "            count = count + 1\n",
    "    X_rec = X0_rec[:row, :col]\n",
    "    return X_rec"
   ]
  },
  {
   "cell_type": "markdown",
   "metadata": {
    "id": "rRQCOuAhSFkJ"
   },
   "source": [
    "# Measurement matrices"
   ]
  },
  {
   "cell_type": "code",
   "execution_count": null,
   "metadata": {
    "executionInfo": {
     "elapsed": 4898,
     "status": "ok",
     "timestamp": 1614104686362,
     "user": {
      "displayName": "Juan Ramírez",
      "photoUrl": "",
      "userId": "10349054824212831472"
     },
     "user_tz": -60
    },
    "id": "FJSePPPcSSjK"
   },
   "outputs": [],
   "source": [
    "fname1       = 'H.mat'\n",
    "data_path    = os.path.join(os.getcwd(),'data/GrayscaleImages/Clean_measurements_25')\n",
    "H            = sio.loadmat(os.path.join(data_path, fname1))['H']\n",
    "H            = torch.from_numpy(H).type(torch.FloatTensor)\n",
    "H            = H.to(device)"
   ]
  },
  {
   "cell_type": "markdown",
   "metadata": {
    "id": "QX09iovOblld"
   },
   "source": [
    "# LADMM parameters"
   ]
  },
  {
   "cell_type": "code",
   "execution_count": null,
   "metadata": {
    "colab": {
     "base_uri": "https://localhost:8080/"
    },
    "executionInfo": {
     "elapsed": 4896,
     "status": "ok",
     "timestamp": 1614104686364,
     "user": {
      "displayName": "Juan Ramírez",
      "photoUrl": "",
      "userId": "10349054824212831472"
     },
     "user_tz": -60
    },
    "id": "ivEsq0T4b0_l",
    "outputId": "5a1248d0-fa49-4c77-d1b0-fb9211679b3a"
   },
   "outputs": [],
   "source": [
    "M = 256\n",
    "N = 256\n",
    "L = 1\n",
    "\n",
    "layer_num               = 16 \n",
    "learning_rate           = 0.001\n",
    "epochs                  = 512\n",
    "num_training_samples    = 80\n",
    "num_samples             = 80\n",
    "batch_size              = 1\n",
    "num_processed_images    = 1\n",
    "compression_rate        = 25\n",
    "\n",
    "model     = LADMMcsimageNet(layer_num)\n",
    "model     = nn.DataParallel(model)\n",
    "model     = model.to(device)\n",
    "optimizer = torch.optim.Adam(model.parameters(), lr=learning_rate)\n",
    "\n",
    "sample_path     = os.path.join(os.getcwd(),'data/GrayscaleImages/testimages/Clean_measurements_25')\n",
    "data_path       = os.path.join(os.getcwd(),'data/GrayscaleImages/testimages')\n",
    "prmt_path       = os.path.join(os.getcwd(),'train_parameters/GrayscaleImages/LADMM_Net_layer_%d_ratio_%d'%(layer_num, compression_rate))\n",
    "model_dir = \"./train_parameters/GrayscaleImages/LADMM_Net_layer_%d_ratio_%d\" % (layer_num, compression_rate)\n",
    "model.load_state_dict(torch.load('./%s/net_params_%d.pkl' % (model_dir, epochs)))"
   ]
  },
  {
   "cell_type": "markdown",
   "metadata": {
    "id": "bnFw4wIvf7bD"
   },
   "source": [
    "# Testing stage"
   ]
  },
  {
   "cell_type": "code",
   "execution_count": null,
   "metadata": {
    "colab": {
     "base_uri": "https://localhost:8080/"
    },
    "executionInfo": {
     "elapsed": 5775,
     "status": "ok",
     "timestamp": 1614104687246,
     "user": {
      "displayName": "Juan Ramírez",
      "photoUrl": "",
      "userId": "10349054824212831472"
     },
     "user_tz": -60
    },
    "id": "ZnekgvXkgAso",
    "outputId": "1280de29-39dc-4610-8aa7-51529ed3b0a7"
   },
   "outputs": [],
   "source": [
    "psnr = np.zeros(12)\n",
    "for ii in range(1,13):\n",
    "  print('Iteration: %d'%(ii))\n",
    "  fpointer        = ii\n",
    "  filename        = 'samples_%03d.mat'%(fpointer)\n",
    "  y               = sio.loadmat(os.path.join(sample_path, filename))['y']\n",
    "  y               = torch.from_numpy(y).type(torch.FloatTensor).to(device)\n",
    "  HTy             = torch.t(torch.mm(torch.t(H), y)).to(device)\n",
    "\n",
    "  [x_test, loss_layers_sym] = model(H, HTy, 33, 33)\n",
    "\n",
    "  fimage          = 'gray_%03d.mat'%(fpointer)\n",
    "  I               = sio.loadmat(os.path.join(data_path, fimage))['I']\n",
    "  [Iorg, row, col, Ipad, row_new, col_new] = imread_CS_py(I)\n",
    "  x   = img2col_py(Ipad, 33) / 255.0       \n",
    "  x   = torch.from_numpy(x).type(torch.FloatTensor)\n",
    "  x   = torch.t(x).to(device)\n",
    "\n",
    "  Prediction_value = x.cpu().data.numpy()\n",
    "  I = 255 * np.clip(col2im_CS_py(Prediction_value.transpose(), row, col, row_new, col_new), 0, 1)\n",
    "\n",
    "  Prediction_value = x_test.cpu().data.numpy()\n",
    "  Io= 255 * np.clip(col2im_CS_py(Prediction_value.transpose(), row, col, row_new, col_new), 0, 1)\n",
    "\n",
    "  loss_discrepancy    = np.mean(np.power(Io - I, 2))\n",
    "  psnr[ii-1]            = torch.mul(10, torch.log10(torch.div(255*255, loss_discrepancy))) \n",
    "\n",
    "print('----------')\n",
    "print('PSNR: %.4f + %.4f dB'%(np.mean(psnr),np.std(psnr)))\n",
    "print('----------')"
   ]
  }
 ],
 "metadata": {
  "accelerator": "GPU",
  "colab": {
   "authorship_tag": "ABX9TyOEnl2Pfhk3Uzk6Ir+94cyI",
   "collapsed_sections": [],
   "name": "LADMM_SimulationTestCSI.ipynb",
   "provenance": [
    {
     "file_id": "1WTkzuG-sK0YGiqir6pzFGr5mWmTeZITX",
     "timestamp": 1614103989624
    },
    {
     "file_id": "1C86j5nzwPWq3IsqnijPhfiet_YCIAepF",
     "timestamp": 1614076785431
    },
    {
     "file_id": "1s39Kdq7BAIrAzSXuh8y0scz7g-oKr4HH",
     "timestamp": 1614030180900
    }
   ],
   "toc_visible": true
  },
  "kernelspec": {
   "display_name": "Python 3",
   "language": "python",
   "name": "python3"
  },
  "language_info": {
   "codemirror_mode": {
    "name": "ipython",
    "version": 3
   },
   "file_extension": ".py",
   "mimetype": "text/x-python",
   "name": "python",
   "nbconvert_exporter": "python",
   "pygments_lexer": "ipython3",
   "version": "3.7.6"
  }
 },
 "nbformat": 4,
 "nbformat_minor": 1
}
